{
 "cells": [
  {
   "cell_type": "code",
   "execution_count": 1,
   "metadata": {},
   "outputs": [],
   "source": [
    "import itertools\n",
    "import random\n",
    "import operator\n",
    "import datetime\n",
    "import pickle\n",
    "import networkx as nx\n",
    "import pandas as pd\n",
    "import numpy as np\n",
    "import matplotlib.pyplot as plt\n",
    "\n",
    "from IPython.display import *\n",
    "from collections import defaultdict, Counter, OrderedDict\n",
    "from tqdm import tqdm_notebook as tqdm\n",
    "from itertools import compress\n",
    "\n",
    "%matplotlib notebook"
   ]
  },
  {
   "cell_type": "markdown",
   "metadata": {},
   "source": [
    "# Outbreak Detection in Brazilian Escort Network"
   ]
  },
  {
   "cell_type": "markdown",
   "metadata": {},
   "source": [
    "In this notebook, we are presenting our outbreak detection approach and provide the code for the method as well as all code related to validation. Because the pig transport dataset contains private information, we cannot openly provide those data. For research purposes, you can send a data request to Identitas AG (https://www.identitas.ch/)."
   ]
  },
  {
   "cell_type": "markdown",
   "metadata": {},
   "source": [
    "## 1. Load and explore dataset"
   ]
  },
  {
   "cell_type": "markdown",
   "metadata": {},
   "source": [
    "We load the dataset of a Brazilian escort network. The data was scraped from an escort internet forum and was initially used here: https://journals.plos.org/ploscompbiol/article?id=10.1371/journal.pcbi.1001109."
   ]
  },
  {
   "cell_type": "code",
   "execution_count": 2,
   "metadata": {},
   "outputs": [
    {
     "data": {
      "text/html": [
       "<div>\n",
       "<style scoped>\n",
       "    .dataframe tbody tr th:only-of-type {\n",
       "        vertical-align: middle;\n",
       "    }\n",
       "\n",
       "    .dataframe tbody tr th {\n",
       "        vertical-align: top;\n",
       "    }\n",
       "\n",
       "    .dataframe thead th {\n",
       "        text-align: right;\n",
       "    }\n",
       "</style>\n",
       "<table border=\"1\" class=\"dataframe\">\n",
       "  <thead>\n",
       "    <tr style=\"text-align: right;\">\n",
       "      <th></th>\n",
       "      <th>idf</th>\n",
       "      <th>idm</th>\n",
       "      <th>date</th>\n",
       "      <th>grade</th>\n",
       "      <th>an</th>\n",
       "      <th>or</th>\n",
       "      <th>mo</th>\n",
       "    </tr>\n",
       "  </thead>\n",
       "  <tbody>\n",
       "    <tr>\n",
       "      <th>0</th>\n",
       "      <td>0</td>\n",
       "      <td>1</td>\n",
       "      <td>0</td>\n",
       "      <td>0</td>\n",
       "      <td>0</td>\n",
       "      <td>0</td>\n",
       "      <td>0</td>\n",
       "    </tr>\n",
       "    <tr>\n",
       "      <th>1</th>\n",
       "      <td>2</td>\n",
       "      <td>1</td>\n",
       "      <td>0</td>\n",
       "      <td>1</td>\n",
       "      <td>-1</td>\n",
       "      <td>1</td>\n",
       "      <td>-1</td>\n",
       "    </tr>\n",
       "    <tr>\n",
       "      <th>2</th>\n",
       "      <td>3</td>\n",
       "      <td>1</td>\n",
       "      <td>0</td>\n",
       "      <td>0</td>\n",
       "      <td>0</td>\n",
       "      <td>0</td>\n",
       "      <td>0</td>\n",
       "    </tr>\n",
       "    <tr>\n",
       "      <th>3</th>\n",
       "      <td>0</td>\n",
       "      <td>4</td>\n",
       "      <td>21</td>\n",
       "      <td>0</td>\n",
       "      <td>0</td>\n",
       "      <td>0</td>\n",
       "      <td>0</td>\n",
       "    </tr>\n",
       "    <tr>\n",
       "      <th>4</th>\n",
       "      <td>5</td>\n",
       "      <td>6</td>\n",
       "      <td>47</td>\n",
       "      <td>0</td>\n",
       "      <td>0</td>\n",
       "      <td>0</td>\n",
       "      <td>0</td>\n",
       "    </tr>\n",
       "  </tbody>\n",
       "</table>\n",
       "</div>"
      ],
      "text/plain": [
       "   idf  idm  date  grade  an  or  mo\n",
       "0    0    1     0      0   0   0   0\n",
       "1    2    1     0      1  -1   1  -1\n",
       "2    3    1     0      0   0   0   0\n",
       "3    0    4    21      0   0   0   0\n",
       "4    5    6    47      0   0   0   0"
      ]
     },
     "execution_count": 2,
     "metadata": {},
     "output_type": "execute_result"
    }
   ],
   "source": [
    "# import data\n",
    "df = pd.read_csv('Data/escort.CSV', sep=';', header=None, skiprows=24)\n",
    "\n",
    "# set column names\n",
    "df.columns = ['idf','idm','date','grade','an','or','mo']\n",
    "\n",
    "# have a look at dataset\n",
    "df.head()"
   ]
  },
  {
   "cell_type": "markdown",
   "metadata": {},
   "source": [
    "The meaning of the variables is as follows:\n",
    "* *idf*: id for the female sex-sellers\n",
    "* *idm*: id for the male sex-buyers\n",
    "* *date*: date (day of posting)\n",
    "* *grade*: female grade given by the male (Bad: -1, Neutral: 0, Good: +1)\n",
    "* *an*: anal sex with/without condom? (Yes: +1, No: -1, Information not available: 0)\n",
    "* *or*: oral sex with condom? (Yes: +1, No: -1, Information not available: 0)\n",
    "* *mo*: mouth kiss? (Yes: +1, No: -1, Information not available: 0)"
   ]
  },
  {
   "cell_type": "code",
   "execution_count": 3,
   "metadata": {},
   "outputs": [
    {
     "name": "stdout",
     "output_type": "stream",
     "text": [
      "Number of edges: 50632\n",
      "Number of distinct male sex-buyers: 10106\n",
      "Number of distinct female sex-sellers: 6624\n"
     ]
    }
   ],
   "source": [
    "# how many edges?\n",
    "print('Number of edges: {}'.format(len(df)))\n",
    "\n",
    "# how many nodes?\n",
    "print('Number of distinct male sex-buyers: {}'.format(df['idm'].nunique()))\n",
    "print('Number of distinct female sex-sellers: {}'.format(df['idf'].nunique()))"
   ]
  },
  {
   "cell_type": "markdown",
   "metadata": {},
   "source": [
    "The network consists of 10'106 male sex-buyers, 6'624 female sex-sellers, and a total of 50'632 contacts."
   ]
  },
  {
   "cell_type": "code",
   "execution_count": 4,
   "metadata": {},
   "outputs": [
    {
     "data": {
      "text/plain": [
       "set()"
      ]
     },
     "execution_count": 4,
     "metadata": {},
     "output_type": "execute_result"
    }
   ],
   "source": [
    "# are id's of male and females unique?\n",
    "sf = set(df['idf'])\n",
    "sm = set(df['idm'])\n",
    "\n",
    "sf.intersection(sm)"
   ]
  },
  {
   "cell_type": "markdown",
   "metadata": {},
   "source": [
    "The id's have no overlap and thus node id's are unique."
   ]
  },
  {
   "cell_type": "code",
   "execution_count": 5,
   "metadata": {},
   "outputs": [
    {
     "name": "stdout",
     "output_type": "stream",
     "text": [
      "Starting date: 0\n",
      "Ending date: 2232\n"
     ]
    }
   ],
   "source": [
    "# min and max date\n",
    "print('Starting date: {}'.format(np.min(df['date'])))\n",
    "print('Ending date: {}'.format(np.max(df['date'])))"
   ]
  },
  {
   "cell_type": "markdown",
   "metadata": {},
   "source": [
    "The time is given with respect to the first day of the whole period, i.e. date 1000 is 1000 days after the first day of the observation period. Overall, the dataset spans the time between September 2002 and October 2008."
   ]
  },
  {
   "cell_type": "code",
   "execution_count": 6,
   "metadata": {},
   "outputs": [
    {
     "data": {
      "text/plain": [
       "18      615\n",
       "4569    477\n",
       "4200    449\n",
       "98      433\n",
       "3935    401\n",
       "Name: idf, dtype: int64"
      ]
     },
     "execution_count": 6,
     "metadata": {},
     "output_type": "execute_result"
    }
   ],
   "source": [
    "# How often are the most frequent sex-workers active?\n",
    "df['idf'].value_counts().head()"
   ]
  },
  {
   "cell_type": "code",
   "execution_count": 7,
   "metadata": {},
   "outputs": [
    {
     "data": {
      "text/plain": [
       "3460    134\n",
       "370     132\n",
       "6558    128\n",
       "924     115\n",
       "2139    114\n",
       "Name: idm, dtype: int64"
      ]
     },
     "execution_count": 7,
     "metadata": {},
     "output_type": "execute_result"
    }
   ],
   "source": [
    "# How often are the most frequent sex-buyers active?\n",
    "df['idm'].value_counts().head()"
   ]
  },
  {
   "cell_type": "markdown",
   "metadata": {},
   "source": [
    "We can see that the most active sex-seller has a total of 615 contacts in this 6-year period. On the other hand, the most active sex-buyer has 134 contacts."
   ]
  },
  {
   "cell_type": "markdown",
   "metadata": {},
   "source": [
    "------"
   ]
  },
  {
   "cell_type": "markdown",
   "metadata": {},
   "source": [
    "## 2. Prepare data"
   ]
  },
  {
   "cell_type": "markdown",
   "metadata": {},
   "source": [
    "Next, we will transform the data into an edgelist of the form $(v_i, v_j, t)$. This will be the main input for the outbreak detection algorithm."
   ]
  },
  {
   "cell_type": "code",
   "execution_count": 8,
   "metadata": {},
   "outputs": [
    {
     "name": "stdout",
     "output_type": "stream",
     "text": [
      "Number of edges: 50632\n"
     ]
    }
   ],
   "source": [
    "# create a list with tuples that indicate the TVD of origin and arrival as well as the date\n",
    "subset = df[['idf', 'idm', 'date']]\n",
    "edgelist = [tuple(x) for x in subset.values]\n",
    "\n",
    "# sort the list of movements by date\n",
    "edgelist = sorted(edgelist, key = lambda x: x[2])\n",
    "\n",
    "# how many edges?\n",
    "print('Number of edges: {}'.format(len(edgelist)))"
   ]
  },
  {
   "cell_type": "markdown",
   "metadata": {},
   "source": [
    "------"
   ]
  },
  {
   "cell_type": "markdown",
   "metadata": {},
   "source": [
    "## 3. Define outbreak detection method"
   ]
  },
  {
   "cell_type": "markdown",
   "metadata": {},
   "source": [
    "In this section, we will create a class for the outbreak detection algorithm and define different object methods in order to solve the outbreak detection problem."
   ]
  },
  {
   "cell_type": "markdown",
   "metadata": {},
   "source": [
    "### 3.1 Initialize class object"
   ]
  },
  {
   "cell_type": "markdown",
   "metadata": {},
   "source": [
    "In a first step, we initialize the class object by providing the edgelist, the date of monitoring, the length of the monitoring period $b$, and we inform the object whether or not the network is directed. By default, we assume an undirected graph. In the initialization step, the edgelist is automatically reduced to the relevant period defined by the date of monitoring and the length of the monitoring period. Furthermore, we provide the following object methods:\n",
    "* ```find_nodes()```: creates a list of unique node IDs and finds the number of nodes.\n",
    "* ```build_graph()```: creates a NetworkX (directed or undirected) multigraph object.\n",
    "* ```build_adjacency_dict()```: creates a dictionary which, for every node, contains the adjacent nodes (incl. timestamp)."
   ]
  },
  {
   "cell_type": "code",
   "execution_count": 9,
   "metadata": {},
   "outputs": [],
   "source": [
    "class OutbreakDetection(object):\n",
    "    \n",
    "    # initialize object\n",
    "    def __init__(self, edgelist, date_monitoring, length_monitoring, is_directed=False):\n",
    "        self.date_monitoring = date_monitoring\n",
    "        self.length_monitoring = length_monitoring\n",
    "        self.edgelist = [e for e in edgelist if e[2] >= (self.date_monitoring - self.length_monitoring) if e[2] <= self.date_monitoring]\n",
    "        self.number_of_edges = len(self.edgelist)\n",
    "        self.is_directed = is_directed\n",
    "        \n",
    "    # find all unique ids in monitoring period\n",
    "    def find_nodes(self): \n",
    "        # get only nodes\n",
    "        out = [[e[0], e[1]] for e in self.edgelist]\n",
    "        # flatten list\n",
    "        out = sorted(list(set([item for sublist in out for item in sublist])))\n",
    "        # assign to attributes\n",
    "        self.nodes = out\n",
    "        self.number_of_nodes = len(out)\n",
    "        \n",
    "    # build multigraph\n",
    "    def build_graph(self):\n",
    "        # procedure for undirected\n",
    "        if(self.is_directed==False):\n",
    "            # get edge information in correct format\n",
    "            edgeAttr = [(i[0], i[1], {'date':i[2]}) for i in self.edgelist]\n",
    "            # create multigraph\n",
    "            G = nx.MultiGraph()\n",
    "            # add edges to graph\n",
    "            G.add_edges_from(edgeAttr)\n",
    "        else:\n",
    "            # get edge information in correct format\n",
    "            edgeAttr = [(i[0], i[1], {'date':i[2]}) for i in self.edgelist]\n",
    "            # create multidigraph\n",
    "            G = nx.MultiDiGraph()\n",
    "            # add directed edges to graph\n",
    "            G.add_edges_from(edgeAttr)\n",
    "        return G\n",
    "        \n",
    "    # create adjacency dict\n",
    "    def build_adjacency_dict(self):\n",
    "        # empty dict\n",
    "        adj = {}\n",
    "        # procedure for undirected\n",
    "        if(self.is_directed==False):\n",
    "            # loop over nodes and add adjacent nodes to dict\n",
    "            for n in self.nodes:\n",
    "                edg1 = [(e[1], e[2]) for e in self.edgelist if e[0] == n]\n",
    "                edg2 = [(e[0], e[2]) for e in self.edgelist if e[1] == n]\n",
    "                adj[n] = edg1 + edg2\n",
    "        else:\n",
    "            for n in self.nodes:\n",
    "                edg = [(e[1], e[2]) for e in self.edgelist if e[0] == n]\n",
    "                adj[n] = edg\n",
    "        # assign to attribute\n",
    "        self.adjacency_dict = adj"
   ]
  },
  {
   "cell_type": "markdown",
   "metadata": {},
   "source": [
    "### 3.2 Simulate outbreaks from all seed configurations"
   ]
  },
  {
   "cell_type": "markdown",
   "metadata": {},
   "source": [
    "In order to efficiently simulate outbreaks from a given seed and starting time, we apply a variation of a temporal breadth-first-search algorithm (see also https://eddmann.com/posts/depth-first-search-and-breadth-first-search-in-python/). Note that an infection can only be propagated if the timestamp of the edge is after the activation of the infectious node but before the infectious node recovered."
   ]
  },
  {
   "cell_type": "code",
   "execution_count": 10,
   "metadata": {},
   "outputs": [],
   "source": [
    "# function to simulate spread with temporal BFS\n",
    "def bfs_temp(adjacency_dict, seed, date, p, recovery):\n",
    "    # add seed-date pair to active list and to queue\n",
    "    active, queue = [(seed, date)], [(seed, date)]\n",
    "    # continue while queue contains elements\n",
    "    while queue:\n",
    "        # empty list for intermediate results\n",
    "        temp = []\n",
    "        # take first element in queue\n",
    "        v = queue.pop(0)\n",
    "        # add neighbors of v to temp if connection is within active period of v\n",
    "        temp.extend([i for i in adjacency_dict[v[0]] if i[1] > v[1] if (i[1] - v[1]) <= recovery if i not in active])\n",
    "        # random draw for all links in temp\n",
    "        ind = np.random.uniform(0, 1, len(temp)) < p\n",
    "        # find newly activated nodes based on random draw\n",
    "        new_active = list(compress(temp, ind))\n",
    "        # add newly activated nodes to active and queue\n",
    "        active.extend(new_active)\n",
    "        queue.extend(new_active) \n",
    "    return active"
   ]
  },
  {
   "cell_type": "markdown",
   "metadata": {},
   "source": [
    "We then implement ```bfs_temp()``` within our object and give it the correct parameters $p$ and recovery time $\\mu^{-1}$ as well as the number of simulations we want to perform for every seed configuration. Note that the output only includes nodes that are still activated (infectious) at the date of monitoring."
   ]
  },
  {
   "cell_type": "code",
   "execution_count": 11,
   "metadata": {},
   "outputs": [],
   "source": [
    "class OutbreakDetection(OutbreakDetection):\n",
    "    \n",
    "    # simulate spreading\n",
    "    def simulate(self, p, recovery, nsim):\n",
    "        # attributes\n",
    "        self.p = p\n",
    "        self.recovery = recovery\n",
    "        self.nsim = nsim\n",
    "        # cut-off date: only nodes that were activated later will still be active\n",
    "        cutoff = self.date_monitoring - self.recovery\n",
    "        # empty dict for results\n",
    "        out = defaultdict(list)\n",
    "        print('Simulation progress:')\n",
    "        # loop over dates and seeds and simulate spread\n",
    "        for d in tqdm(range(self.date_monitoring - self.length_monitoring, self.date_monitoring)):\n",
    "            for seed in self.nodes:\n",
    "                # empty list for temporary results\n",
    "                sim_temp = []\n",
    "                # simulation nsim times\n",
    "                for i in range(self.nsim):\n",
    "                    sim_temp.append(bfs_temp(self.adjacency_dict, seed, d, self.p, self.recovery))\n",
    "                # keep only nodes that are still active at date of monitoring\n",
    "                sim_temp = [[j[0] for j in i if j[1] >= cutoff] for i in sim_temp]\n",
    "                # add simulation results to dict\n",
    "                out[(seed, d)] = [list(set(l)) for l in sim_temp]\n",
    "        # assign to attribute\n",
    "        self.sim_list = out"
   ]
  },
  {
   "cell_type": "markdown",
   "metadata": {},
   "source": [
    "### 3.3 Create inverted index"
   ]
  },
  {
   "cell_type": "markdown",
   "metadata": {},
   "source": [
    "In order to ease the optimization procedure in the next step, we transform the simulation results into an inverted index data structure. Since we additionally consider the problem of source detection, we need to different inverted index structures:\n",
    "* ```create_index()```: creates a dictionary where for every node(key), the number of every simulation run that reaches this node (values) is saved.\n",
    "* ```create_index_by_source()```: creates a dictionary of dictionaries where, for every source configuration, a dictionary of nodes with the correspondig numbers of the simulations runs that reaches them is saved."
   ]
  },
  {
   "cell_type": "code",
   "execution_count": 12,
   "metadata": {},
   "outputs": [],
   "source": [
    "class OutbreakDetection(OutbreakDetection):\n",
    "    \n",
    "    # create inverted index\n",
    "    def create_index(self):\n",
    "        # create empty dict\n",
    "        index = defaultdict(list)\n",
    "        # get flat list of values\n",
    "        sim_flat = [item for sublist in list(self.sim_list.values()) for item in sublist]\n",
    "        # enumerate simulations and loop over them\n",
    "        for i, nodes in enumerate(sim_flat):\n",
    "            for n in nodes:\n",
    "                index[n].append(i)\n",
    "        # assign to attribute\n",
    "        self.sim_ind = index\n",
    "        \n",
    "    # create inverted index by source (for source detection)\n",
    "    def create_index_by_source(self):\n",
    "        # create empty dict\n",
    "        index = defaultdict(dict)\n",
    "        # loop over sim_list\n",
    "        for key, value in self.sim_list.items():\n",
    "            # empty dict for temporary results\n",
    "            temp = defaultdict(set)\n",
    "            # enumerate simulations and loop over them\n",
    "            for i, nodes in enumerate(value):\n",
    "                for n in nodes:\n",
    "                    temp[n].add(i)\n",
    "            # add to dict\n",
    "            index[key] = temp\n",
    "        # assign to attribute\n",
    "        self.sim_ind_source = index"
   ]
  },
  {
   "cell_type": "markdown",
   "metadata": {},
   "source": [
    "### 3.4 Greedy maximization"
   ]
  },
  {
   "cell_type": "markdown",
   "metadata": {},
   "source": [
    "For greedy optimization, we first define a method that computes the detection probability of a given set of nodes. ```detection_probability()``` simply looks up the numbers of simulation runs for every node in the monitoring set. The union of those numbers is then divided by the total number of simulations. The method ```greedy_max()``` first computes the detection probability for all nodes in the graph and selects the node with the highest detection probability. It then iteratively selects the node with the highest marginal gain until $k$ nodes are selected. In order to increase the speed of the procedure, we implemented lazy forward evaluations suggested by Leskovec et al., 2007 (https://www.cs.cmu.edu/~jure/pubs/detect-kdd07.pdf). Nodes with identical marginal gain are selected randomly."
   ]
  },
  {
   "cell_type": "code",
   "execution_count": 13,
   "metadata": {},
   "outputs": [],
   "source": [
    "class OutbreakDetection(OutbreakDetection):\n",
    "    \n",
    "    # function to compute detection likelihood\n",
    "    def detection_probability(self, sensors):\n",
    "        # empty list of sets\n",
    "        sets = []\n",
    "        # add all simulation runs that sensors see\n",
    "        for s in sensors:\n",
    "            sets.append(set(self.sim_ind[s]))\n",
    "        # return the length of the union of the sets\n",
    "        return len(set.union(*sets)) / (len(self.sim_ind.keys()) * self.length_monitoring * self.nsim)\n",
    "    \n",
    "    # function to greedily optimize\n",
    "    def greedy_max(self, nsensors):\n",
    "        # initialize counter\n",
    "        it = 1\n",
    "        # empty list of optimal observers\n",
    "        optimal_observers = []\n",
    "        # create a copy of nodelist\n",
    "        node_list = self.nodes\n",
    "        # dict for marginal gains\n",
    "        marginal_gain = {}\n",
    "        # iterate over all possible nodes and find marginal gain\n",
    "        for node in node_list:\n",
    "            marginal_gain[node] = self.detection_probability([node])\n",
    "        # sort and get list of tuples\n",
    "        marginal_gain = sorted(marginal_gain.items(), key=operator.itemgetter(1), reverse=True)\n",
    "        # print first node to be chosen\n",
    "        print('Optimal observers:')\n",
    "        print('{}: {} (marginal increase: {})'.format(it, marginal_gain[0][0], np.round(marginal_gain[0][1], 4)))\n",
    "        # update counter\n",
    "        it += 1\n",
    "        # add top node to list of optimal observers\n",
    "        optimal_observers.append(marginal_gain.pop(0)[0])\n",
    "        # empty list to temporarily store activated nodes\n",
    "        active = []\n",
    "        # loop as long as we have not found enough sensors\n",
    "        while len(optimal_observers) < nsensors:\n",
    "            # get top node from list\n",
    "            v = marginal_gain.pop(0)[0]\n",
    "            # create a copy of optimal observers list\n",
    "            obs = optimal_observers.copy()\n",
    "            # add node in question to obs\n",
    "            obs.append(v)\n",
    "            # compute marginal gain\n",
    "            marg = self.detection_probability(obs) - self.detection_probability(optimal_observers)\n",
    "            # add newly computed marginal gain back to list\n",
    "            marginal_gain.append((v, marg))\n",
    "            # resort list\n",
    "            marginal_gain = sorted(marginal_gain, key=lambda tup: tup[1], reverse=True)\n",
    "            # if top node is still the same, then add to optimal set\n",
    "            if marginal_gain[0][0] == v:\n",
    "                # print chosen node\n",
    "                print('{}: {} (marginal increase: {})'.format(it, marginal_gain[0][0], np.round(marginal_gain[0][1], 4)))\n",
    "                # update counter\n",
    "                it += 1\n",
    "                # add top node to list of optimal observers\n",
    "                optimal_observers.append(marginal_gain.pop(0)[0])\n",
    "                # clear active\n",
    "                active.clear()\n",
    "            else:\n",
    "                if v not in active:\n",
    "                    # if v is not activated yet, add it to list and continue loop\n",
    "                    active.append(v)\n",
    "                    continue\n",
    "                else:\n",
    "                    # if v is activated already, get all keys where value is maximal\n",
    "                    max_val = marginal_gain[0][1]\n",
    "                    max_keys = [i for i in marginal_gain if i[1] == max_val]\n",
    "                    # loop over all elements in list max_keys\n",
    "                    for i in range(len(max_keys)):\n",
    "                        # randomly select a key from keys with max value\n",
    "                        new = random.choice(max_keys)\n",
    "                        # remove chosen key from max_keys and marginal gains list\n",
    "                        max_keys.remove(new)\n",
    "                        marginal_gain.remove(new)\n",
    "                        # add node to optimal observers\n",
    "                        optimal_observers.append(new[0])\n",
    "                        # print chosen node\n",
    "                        print('{}: {} (marginal increase: {})'.format(it, new[0], np.round(new[1], 4)))\n",
    "                        # update counter\n",
    "                        it += 1\n",
    "                        # break the loop if nsensors is reached\n",
    "                        if len(optimal_observers) == nsensors:\n",
    "                            break\n",
    "                    # clear active\n",
    "                    active.clear()\n",
    "        return optimal_observers"
   ]
  },
  {
   "cell_type": "markdown",
   "metadata": {},
   "source": [
    "### 3.5 Source detection"
   ]
  },
  {
   "cell_type": "markdown",
   "metadata": {},
   "source": [
    "Finally, we provide the method to compute the source probabilites. ```detect_sources()``` finds, for every seed configuration, the relative number of simulation runs where all nodes in the evidence set are activated (infected). With this approximate probability and Bayes' theorem, we can compute the source probability for any seed configuration. The method outputs an ordered dictionary with all seed configurations that have a non-zero probability."
   ]
  },
  {
   "cell_type": "code",
   "execution_count": 14,
   "metadata": {},
   "outputs": [],
   "source": [
    "class OutbreakDetection(OutbreakDetection):\n",
    "    \n",
    "    # function to find source likelihoods\n",
    "    def detect_sources(self, evidence):\n",
    "        # create empty dict\n",
    "        out = {}\n",
    "        # loop over index\n",
    "        for key, value in self.sim_ind_source.items():\n",
    "            # check if nodes in evidence are part of batch of simulations for source\n",
    "            if set(evidence).issubset(set(value.keys())):\n",
    "                # empty list of sets\n",
    "                sets = []\n",
    "                # find simulation numbers for nodes in evidence\n",
    "                for s in evidence:\n",
    "                    sets.append(set(value[s]))\n",
    "                # compute number of simulations in common\n",
    "                out[key] = len(set.intersection(*sets)) / self.nsim\n",
    "            else:\n",
    "                # if source does not contain evidence nodes, the overlap is 0\n",
    "                out[key] = 0\n",
    "        # normalize by total\n",
    "        out = {k: v / total for total in (sum(out.values()),) for k, v in out.items()}\n",
    "        # get only key-value pairs where value > 0\n",
    "        out = {k: v for k, v in out.items() if v > 0}\n",
    "        # turn them into list and remove dates\n",
    "        out = [(k[0],v) for k,v in out.items()]\n",
    "        # empty dict\n",
    "        out_final = defaultdict(int)\n",
    "        # add probabilities up over source nodes\n",
    "        for k, v in out:\n",
    "            out_final[k] += v\n",
    "        # return sorted dictionary\n",
    "        return OrderedDict(sorted(out_final.items(), key=lambda kv: kv[1], reverse=True))"
   ]
  },
  {
   "cell_type": "markdown",
   "metadata": {},
   "source": [
    "------"
   ]
  },
  {
   "cell_type": "markdown",
   "metadata": {},
   "source": [
    "## 4. Evaluate method"
   ]
  },
  {
   "cell_type": "markdown",
   "metadata": {},
   "source": [
    "In this section, we will show how we evaluated our outbreak detection algorithm. We first extend our object with the benchmark methods, provide a method to create evaluation data, then set the parameters and run the algorithm. Finally, we will show the graph and provide the code for the evaluation results."
   ]
  },
  {
   "cell_type": "markdown",
   "metadata": {},
   "source": [
    "### 4.1 Benchmark methods"
   ]
  },
  {
   "cell_type": "markdown",
   "metadata": {},
   "source": [
    "We compare our outbreak detection algorithm with two benchmark methods and the baseline of a random node set. The first benchmark method simply consists of selecting the nodes with the highest degree. Therefore, we implement the method ```compute_degree()```. The second benchmark method are sentinel nodes suggested in Bajardi et al., 2012 (https://royalsocietypublishing.org/doi/full/10.1098/rsif.2012.0289). Their method is implemented in ```find_sentinels()```. For technical details, please refer to Bajardi et al.'s publication."
   ]
  },
  {
   "cell_type": "code",
   "execution_count": 15,
   "metadata": {},
   "outputs": [],
   "source": [
    "class OutbreakDetection(OutbreakDetection):\n",
    "    \n",
    "    # function to compute degree of nodes\n",
    "    def compute_degree(self, nsensors):\n",
    "        # empty dict\n",
    "        out = defaultdict(int)\n",
    "        # loop over nodes and get degree from adjacency_dict\n",
    "        for n in self.nodes:\n",
    "            out[n] = len(set([i[0] for i in self.adjacency_dict[n]]))\n",
    "        # sort by degree\n",
    "        out = sorted(out.items(), key=lambda kv: kv[1], reverse=True)\n",
    "        # return top degree nodes\n",
    "        return out[0:nsensors]\n",
    "    \n",
    "    # function to find sentinel nodes\n",
    "    def find_sentinels(self, nsensors, threshold=0.8, deterministic=True):\n",
    "        # function to compute Jaccard similarity between any two nodes\n",
    "        def jaccard_similarity(out, pair):\n",
    "            x = out[pair[0]]\n",
    "            y = out[pair[1]]\n",
    "            inter_card = len(set.intersection(*[set(x), set(y)]))\n",
    "            union_card = len(set.union(*[set(x), set(y)]))\n",
    "            return inter_card/float(union_card)\n",
    "        # empty dict for results\n",
    "        out1 = defaultdict(set)\n",
    "        # check if spread shall be deterministic:\n",
    "        if deterministic:\n",
    "            inf_p = 1\n",
    "        else:\n",
    "            inf_p = self.p\n",
    "        # simulate the spreads from all source nodes\n",
    "        for n in self.nodes:\n",
    "            sim = bfs_temp(self.adjacency_dict, n, self.date_monitoring - self.length_monitoring, inf_p, self.recovery)\n",
    "            out1[n] = set([j[0] for j in sim])\n",
    "        # empty dict for results\n",
    "        out2 = defaultdict(float)\n",
    "        # compute Jaccard similarity between any two nodes\n",
    "        for pair in itertools.combinations(self.nodes, r=2):\n",
    "            out2[pair] = jaccard_similarity(out1, pair)\n",
    "        # keep only pairs with similarity higher than threshold\n",
    "        out2 = [k for k,v in out2.items() if float(v) >= threshold]\n",
    "        # create graph and add nodes and edges\n",
    "        G = nx.Graph()\n",
    "        G.add_nodes_from(self.nodes)\n",
    "        G.add_edges_from(out2)\n",
    "        # find connected components in graph and sort them\n",
    "        out3 = sorted(nx.connected_components(G), key=len, reverse=True)\n",
    "        # empty dict for results\n",
    "        clusters = defaultdict(int)\n",
    "        # create clusters based on connected components\n",
    "        for i, ids in enumerate(out3):\n",
    "            for j in ids:\n",
    "                clusters[j] = i\n",
    "        # empty dict for results\n",
    "        out4 = defaultdict(dict)\n",
    "        # loop over simulations and count occurences per cluster\n",
    "        for k,v in out1.items():\n",
    "            c = clusters[k]\n",
    "            for i in v:\n",
    "                if not out4.get(i):\n",
    "                    out4[i] = defaultdict(int)\n",
    "                out4[i][c] += 1\n",
    "        # empty dict for results\n",
    "        out5 = defaultdict(tuple)\n",
    "        # loop over k-v pairs in out4 and compute n and entropy\n",
    "        for k,v in out4.items():\n",
    "            n = np.sum(list(v.values()))\n",
    "            probs = np.asarray(list(v.values())/n)\n",
    "            log_probs = np.log(probs)\n",
    "            if n == 1:\n",
    "                entr = 0\n",
    "            else:\n",
    "                entr = -(1/np.log(n)) * np.sum(probs*log_probs)\n",
    "            out5[k] = (n, entr)\n",
    "        # sort by n\n",
    "        out = sorted(out5.items(), key=lambda kv: kv[1][0], reverse=True)\n",
    "        return out[0:nsensors]"
   ]
  },
  {
   "cell_type": "markdown",
   "metadata": {},
   "source": [
    "### 4.2 Create evaluation data"
   ]
  },
  {
   "cell_type": "markdown",
   "metadata": {},
   "source": [
    "Next, we implement a method to create the data for evaluation. Here again, we use the temporal breadth-first-search function implemented above. This is very similar to ```simulate()``` defined above, however, it contains additonal parameters, such as a minimal size an outbreak should have (```min_outbreak_size```) or whether the start date of an outbreak should be fixed to the first day of the period (```startDateFix```)."
   ]
  },
  {
   "cell_type": "code",
   "execution_count": 16,
   "metadata": {},
   "outputs": [],
   "source": [
    "class OutbreakDetection(OutbreakDetection):\n",
    "    \n",
    "    # function to compute degree of nodes\n",
    "    def create_eval_data(self, eval_p, eval_recovery, eval_nsim, min_outbreak_size=0, startDateFix=False):\n",
    "        # cut-off date: only nodes that were activated later will still be active\n",
    "        cutoff = self.date_monitoring - eval_recovery\n",
    "        # empty dict for results\n",
    "        out = defaultdict(list)    \n",
    "        # loop as long as the length of the output is not nsim\n",
    "        while len(out) < eval_nsim:\n",
    "            # randomly pick a seed node\n",
    "            seed = random.choice(self.nodes)\n",
    "            # set start data to t0 or pick randomly\n",
    "            if(startDateFix):\n",
    "                seed_date = self.date_monitoring - self.length_monitoring\n",
    "            else:\n",
    "                seed_date = random.choice(list(range(self.date_monitoring - self.length_monitoring, self.date_monitoring)))\n",
    "            # simulate from seed configuration\n",
    "            sim = bfs_temp(self.adjacency_dict, seed, seed_date, eval_p, eval_recovery)\n",
    "            # keep only nodes that are still active at monitoring date\n",
    "            sim = [i for i in sim if i[1] >= cutoff]\n",
    "            # if we set a min_outbreak_size, make sure given run satisfies condition\n",
    "            # IMPORTANT: if recovery time is very short, simulations can run for a long time with min_outbreak_size > 0\n",
    "            if len(sim) >= min_outbreak_size:\n",
    "                out[(seed, seed_date)] = sim\n",
    "        return out"
   ]
  },
  {
   "cell_type": "markdown",
   "metadata": {},
   "source": [
    "### 4.3 Set parameters"
   ]
  },
  {
   "cell_type": "markdown",
   "metadata": {},
   "source": [
    "Here, we set the parameters for the outbreak detection algorithm. The monitoring date 2232 corresponds to October 31, 2008. We only run 100 simulations per seed configuration in order to speed up the procedure for demonstration purposes."
   ]
  },
  {
   "cell_type": "code",
   "execution_count": 17,
   "metadata": {},
   "outputs": [],
   "source": [
    "# date of monitoring\n",
    "monitoring_date = 2232\n",
    "\n",
    "# length of monitoring window (days)\n",
    "length_monitoring = 30\n",
    "\n",
    "# number of simulations per seed configuration\n",
    "nsim = 100\n",
    "\n",
    "# probability of infection in SIR process\n",
    "p = 0.6\n",
    "\n",
    "# length of recovery period (days)\n",
    "recovery = 15\n",
    "\n",
    "# determine the number of sensors\n",
    "nsensors = 100"
   ]
  },
  {
   "cell_type": "markdown",
   "metadata": {},
   "source": [
    "### 4.4 Run method"
   ]
  },
  {
   "cell_type": "markdown",
   "metadata": {},
   "source": [
    "We start running the algorithm by creating an instance of the object and by getting the list of node IDs as well as building the adjacendy dictionary."
   ]
  },
  {
   "cell_type": "code",
   "execution_count": 18,
   "metadata": {},
   "outputs": [],
   "source": [
    "# create instance of outbreak detection\n",
    "od = OutbreakDetection(edgelist, monitoring_date, length_monitoring)\n",
    "od.find_nodes()\n",
    "od.build_adjacency_dict()"
   ]
  },
  {
   "cell_type": "markdown",
   "metadata": {},
   "source": [
    "We then simulate outbreaks from all seed configurations and subsequenctly create the inverted index structures."
   ]
  },
  {
   "cell_type": "code",
   "execution_count": 19,
   "metadata": {},
   "outputs": [
    {
     "name": "stdout",
     "output_type": "stream",
     "text": [
      "Simulation progress:\n"
     ]
    },
    {
     "data": {
      "application/vnd.jupyter.widget-view+json": {
       "model_id": "9dc2c6b2e47a4687bc17c37c084bdb40",
       "version_major": 2,
       "version_minor": 0
      },
      "text/plain": [
       "HBox(children=(IntProgress(value=0, max=30), HTML(value='')))"
      ]
     },
     "metadata": {},
     "output_type": "display_data"
    },
    {
     "name": "stdout",
     "output_type": "stream",
     "text": [
      "\n"
     ]
    }
   ],
   "source": [
    "# simulate and create inverted index structures\n",
    "od.simulate(p, recovery, nsim)\n",
    "od.create_index()\n",
    "od.create_index_by_source()"
   ]
  },
  {
   "cell_type": "markdown",
   "metadata": {},
   "source": [
    "Finally, we can find the $k$ optimal sensors as well as the $k$ sensors according to the benchmark methods (degree and sentinels)."
   ]
  },
  {
   "cell_type": "code",
   "execution_count": 20,
   "metadata": {},
   "outputs": [
    {
     "name": "stdout",
     "output_type": "stream",
     "text": [
      "Optimal observers:\n",
      "1: 15701 (marginal increase: 0.0051)\n",
      "2: 12174 (marginal increase: 0.0036)\n",
      "3: 4569 (marginal increase: 0.0035)\n",
      "4: 13081 (marginal increase: 0.0034)\n",
      "5: 16485 (marginal increase: 0.0033)\n",
      "6: 156 (marginal increase: 0.003)\n",
      "7: 16292 (marginal increase: 0.0027)\n",
      "8: 16287 (marginal increase: 0.0027)\n",
      "9: 11717 (marginal increase: 0.0024)\n",
      "10: 15816 (marginal increase: 0.0023)\n",
      "11: 16652 (marginal increase: 0.0022)\n",
      "12: 1351 (marginal increase: 0.002)\n",
      "13: 16058 (marginal increase: 0.0018)\n",
      "14: 15499 (marginal increase: 0.0018)\n",
      "15: 3935 (marginal increase: 0.0018)\n",
      "16: 16689 (marginal increase: 0.0017)\n",
      "17: 15735 (marginal increase: 0.0017)\n",
      "18: 15732 (marginal increase: 0.0017)\n",
      "19: 15161 (marginal increase: 0.0016)\n",
      "20: 14342 (marginal increase: 0.0016)\n",
      "21: 9725 (marginal increase: 0.0016)\n",
      "22: 11309 (marginal increase: 0.0016)\n",
      "23: 16524 (marginal increase: 0.0015)\n",
      "24: 11338 (marginal increase: 0.0015)\n",
      "25: 16496 (marginal increase: 0.0015)\n",
      "26: 6214 (marginal increase: 0.0015)\n",
      "27: 13164 (marginal increase: 0.0015)\n",
      "28: 8733 (marginal increase: 0.0015)\n",
      "29: 16523 (marginal increase: 0.0014)\n",
      "30: 16427 (marginal increase: 0.0014)\n",
      "31: 16611 (marginal increase: 0.0014)\n",
      "32: 6813 (marginal increase: 0.0014)\n",
      "33: 3212 (marginal increase: 0.0013)\n",
      "34: 12922 (marginal increase: 0.0013)\n",
      "35: 14023 (marginal increase: 0.0013)\n",
      "36: 14665 (marginal increase: 0.0013)\n",
      "37: 1941 (marginal increase: 0.0013)\n",
      "38: 13915 (marginal increase: 0.0013)\n",
      "39: 15960 (marginal increase: 0.0012)\n",
      "40: 995 (marginal increase: 0.0012)\n",
      "41: 9312 (marginal increase: 0.0012)\n",
      "42: 16033 (marginal increase: 0.0012)\n",
      "43: 16492 (marginal increase: 0.0011)\n",
      "44: 16543 (marginal increase: 0.0011)\n",
      "45: 12633 (marginal increase: 0.0011)\n",
      "46: 16622 (marginal increase: 0.0011)\n",
      "47: 1395 (marginal increase: 0.0011)\n",
      "48: 13745 (marginal increase: 0.0011)\n",
      "49: 16018 (marginal increase: 0.0011)\n",
      "50: 5389 (marginal increase: 0.0011)\n",
      "51: 16420 (marginal increase: 0.0011)\n",
      "52: 16267 (marginal increase: 0.0011)\n",
      "53: 11545 (marginal increase: 0.0011)\n",
      "54: 16665 (marginal increase: 0.0011)\n",
      "55: 14089 (marginal increase: 0.0011)\n",
      "56: 15999 (marginal increase: 0.001)\n",
      "57: 5388 (marginal increase: 0.001)\n",
      "58: 11978 (marginal increase: 0.001)\n",
      "59: 12552 (marginal increase: 0.001)\n",
      "60: 16474 (marginal increase: 0.001)\n",
      "61: 9022 (marginal increase: 0.001)\n",
      "62: 2368 (marginal increase: 0.001)\n",
      "63: 7574 (marginal increase: 0.001)\n",
      "64: 9262 (marginal increase: 0.001)\n",
      "65: 16535 (marginal increase: 0.001)\n",
      "66: 4626 (marginal increase: 0.001)\n",
      "67: 15784 (marginal increase: 0.001)\n",
      "68: 7632 (marginal increase: 0.001)\n",
      "69: 5333 (marginal increase: 0.001)\n",
      "70: 8257 (marginal increase: 0.001)\n",
      "71: 15274 (marginal increase: 0.001)\n",
      "72: 15830 (marginal increase: 0.001)\n",
      "73: 16641 (marginal increase: 0.001)\n",
      "74: 12518 (marginal increase: 0.0009)\n",
      "75: 12266 (marginal increase: 0.0009)\n",
      "76: 10176 (marginal increase: 0.0009)\n",
      "77: 15107 (marginal increase: 0.0009)\n",
      "78: 16559 (marginal increase: 0.0009)\n",
      "79: 1182 (marginal increase: 0.0009)\n",
      "80: 15613 (marginal increase: 0.0009)\n",
      "81: 12784 (marginal increase: 0.0009)\n",
      "82: 3891 (marginal increase: 0.0009)\n",
      "83: 16558 (marginal increase: 0.0009)\n",
      "84: 15636 (marginal increase: 0.0009)\n",
      "85: 223 (marginal increase: 0.0009)\n",
      "86: 123 (marginal increase: 0.0009)\n",
      "87: 10260 (marginal increase: 0.0009)\n",
      "88: 10466 (marginal increase: 0.0009)\n",
      "89: 16593 (marginal increase: 0.0009)\n",
      "90: 4815 (marginal increase: 0.0009)\n",
      "91: 15090 (marginal increase: 0.0009)\n",
      "92: 14071 (marginal increase: 0.0009)\n",
      "93: 13235 (marginal increase: 0.0009)\n",
      "94: 14995 (marginal increase: 0.0009)\n",
      "95: 2407 (marginal increase: 0.0009)\n",
      "96: 1067 (marginal increase: 0.0009)\n",
      "97: 15620 (marginal increase: 0.0009)\n",
      "98: 1173 (marginal increase: 0.0009)\n",
      "99: 16646 (marginal increase: 0.0009)\n",
      "100: 11392 (marginal increase: 0.0008)\n"
     ]
    }
   ],
   "source": [
    "# find optimal sensors\n",
    "sensors_dtl = od.greedy_max(nsensors)\n",
    "sensors_deg = od.compute_degree(nsensors)\n",
    "sensors_sen = od.find_sentinels(nsensors)"
   ]
  },
  {
   "cell_type": "markdown",
   "metadata": {},
   "source": [
    "The methods ```compute_degree()``` and ```find_sentinels()``` output not only the node IDs, but also some other attributes. Hence, we extract just the node IDs and after compare the overlap between the three optimal node sets. We see that the nodes chosen based on greedy maximization share 51 nodes with the set of nodes based on the degree. The overlap with the set of sentinels is considerably smaller (24 nodes)."
   ]
  },
  {
   "cell_type": "code",
   "execution_count": 21,
   "metadata": {},
   "outputs": [
    {
     "name": "stdout",
     "output_type": "stream",
     "text": [
      "51\n",
      "24\n",
      "32\n"
     ]
    }
   ],
   "source": [
    "# get only nodes\n",
    "sensors_deg_nodes = [i[0] for i in sensors_deg]\n",
    "sensors_sen_nodes = [i[0] for i in sensors_sen]\n",
    "\n",
    "# overlap between observers\n",
    "print(len(set(sensors_dtl).intersection(sensors_deg_nodes)))\n",
    "print(len(set(sensors_dtl).intersection(sensors_sen_nodes)))\n",
    "print(len(set(sensors_deg_nodes).intersection(sensors_sen_nodes)))"
   ]
  },
  {
   "cell_type": "markdown",
   "metadata": {},
   "source": [
    "Next, we can save the optimal sensors with the help of the Python modul pickle for easy recreation of evaluation results."
   ]
  },
  {
   "cell_type": "code",
   "execution_count": 22,
   "metadata": {},
   "outputs": [],
   "source": [
    "# export\n",
    "# pickle.dump(sensors_dtl, open('C:/.../sensors_dtl.p', \"wb\"))\n",
    "# pickle.dump(sensors_deg_nodes, open('C:/.../sensors_deg.p', \"wb\"))\n",
    "# pickle.dump(sensors_sen_nodes, open('C:/.../sensors_sen.p', \"wb\"))"
   ]
  },
  {
   "cell_type": "markdown",
   "metadata": {},
   "source": [
    "### 4.5 Describe graph"
   ]
  },
  {
   "cell_type": "markdown",
   "metadata": {},
   "source": [
    "In this section, we build a graph and describe important properties of that graph. Finally, we will plot the graph."
   ]
  },
  {
   "cell_type": "code",
   "execution_count": 22,
   "metadata": {},
   "outputs": [],
   "source": [
    "# build graph\n",
    "G = od.build_graph()"
   ]
  },
  {
   "cell_type": "markdown",
   "metadata": {},
   "source": [
    "#### Some graph properties"
   ]
  },
  {
   "cell_type": "code",
   "execution_count": 23,
   "metadata": {},
   "outputs": [
    {
     "name": "stdout",
     "output_type": "stream",
     "text": [
      "Graph is directed: False\n",
      "Graph is multigraph: True\n",
      "Graph is connected: False\n",
      "Graph is bipartite: True\n",
      "Number of nodes: 1573\n",
      "Number of edges: 1463\n"
     ]
    }
   ],
   "source": [
    "print('Graph is directed: {}'.format(G.is_directed(), G.is_multigraph()))\n",
    "print('Graph is multigraph: {}'.format(G.is_multigraph()))\n",
    "print('Graph is connected: {}'.format(nx.is_connected(G)))\n",
    "print('Graph is bipartite: {}'.format(nx.is_bipartite(G)))\n",
    "print('Number of nodes: {}'.format(G.number_of_nodes()))\n",
    "print('Number of edges: {}'.format(G.number_of_edges()))"
   ]
  },
  {
   "cell_type": "markdown",
   "metadata": {},
   "source": [
    "As expected, the graph is undirected, is a multigraph, contains subcomponents that are unconnected and is bipartite. The number of nodes is 1'573 and the number of edges is 1'463."
   ]
  },
  {
   "cell_type": "code",
   "execution_count": 24,
   "metadata": {},
   "outputs": [
    {
     "name": "stdout",
     "output_type": "stream",
     "text": [
      "Number of nodes in class instance: 1573\n",
      "Number of edges in class instance: 1463\n"
     ]
    }
   ],
   "source": [
    "print('Number of nodes in class instance: {}'.format(od.number_of_nodes))\n",
    "print('Number of edges in class instance: {}'.format(od.number_of_edges))"
   ]
  },
  {
   "cell_type": "code",
   "execution_count": 25,
   "metadata": {},
   "outputs": [
    {
     "name": "stdout",
     "output_type": "stream",
     "text": [
      "Number of connected components: 257\n",
      "Size of largest connected component: 614\n"
     ]
    }
   ],
   "source": [
    "# find all connected components\n",
    "components = sorted(nx.connected_components(G), key=len, reverse=True)\n",
    "\n",
    "print('Number of connected components: {}'.format(len(components)))\n",
    "print('Size of largest connected component: {}'.format(len(components[0])))"
   ]
  },
  {
   "cell_type": "markdown",
   "metadata": {},
   "source": [
    "The graph contains 257 connected subcomponents, the largest subcomponent contains 614 nodes."
   ]
  },
  {
   "cell_type": "code",
   "execution_count": 26,
   "metadata": {},
   "outputs": [
    {
     "name": "stdout",
     "output_type": "stream",
     "text": [
      "Average degree: 1.7774952320406865\n",
      "Density: 0.0011307221577866963\n"
     ]
    }
   ],
   "source": [
    "# transform multigraph to simple graph\n",
    "G_simple = nx.Graph(G)\n",
    "\n",
    "# create dict with degrees\n",
    "degree = dict(G_simple.degree())\n",
    "\n",
    "print('Average degree: {}'.format(np.mean(list(degree.values()))))\n",
    "print('Density: {}'.format(nx.density(G_simple)))"
   ]
  },
  {
   "cell_type": "markdown",
   "metadata": {},
   "source": [
    "The averge degree of the graph is 1.78 and the density is 0.11%."
   ]
  },
  {
   "cell_type": "markdown",
   "metadata": {},
   "source": [
    "### 4.6 Evaluation results outbreak detection"
   ]
  },
  {
   "cell_type": "markdown",
   "metadata": {},
   "source": [
    "In this section, we show the evaluation results."
   ]
  },
  {
   "cell_type": "markdown",
   "metadata": {},
   "source": [
    "#### 4.6.1 Comparison with benchmarks"
   ]
  },
  {
   "cell_type": "markdown",
   "metadata": {},
   "source": [
    "##### Create evaluation data"
   ]
  },
  {
   "cell_type": "markdown",
   "metadata": {},
   "source": [
    "We first create 10'000 outbreak scenarios with $p=0.6$ and $\\mu^{-1}=15$. Initially, we consider all possible outbreaks, even those which might have already died out at the time of monitoring, hence, ```min_outbreak_size = 0```."
   ]
  },
  {
   "cell_type": "code",
   "execution_count": 27,
   "metadata": {},
   "outputs": [],
   "source": [
    "# parameters for evaluation\n",
    "eval_p = 0.6\n",
    "eval_recovery = 15\n",
    "eval_nsim = 10000\n",
    "min_outbreak_size = 0\n",
    "\n",
    "# create evaluation data\n",
    "eval_data = od.create_eval_data(eval_p, eval_recovery, eval_nsim, min_outbreak_size)"
   ]
  },
  {
   "cell_type": "markdown",
   "metadata": {},
   "source": [
    "##### Compute fraction of detected outbreaks"
   ]
  },
  {
   "cell_type": "markdown",
   "metadata": {},
   "source": [
    "Next, for every simulated outbreak scenario, we check whether or not the different methods detect the outbreak and count the total number of detected outbreaks for different $k$."
   ]
  },
  {
   "cell_type": "code",
   "execution_count": 28,
   "metadata": {},
   "outputs": [],
   "source": [
    "# initialize empty lists for results\n",
    "eval_prob_list = []\n",
    "eval_degr_list = []\n",
    "eval_sent_list = []\n",
    "eval_rand_list = []\n",
    "\n",
    "# get activated nodes for all simulation runs\n",
    "eval_data_values = list(eval_data.values())\n",
    "\n",
    "# initialize empty list for random observers\n",
    "random_sample = []\n",
    "\n",
    "# nodes to sample from\n",
    "nodes_sampling = od.nodes\n",
    "\n",
    "# loop over observer set sizes\n",
    "for ns in range(0, 105, 5):\n",
    "    \n",
    "    # initialize counters\n",
    "    eval_prob = 0\n",
    "    eval_degr = 0\n",
    "    eval_sent = 0\n",
    "    eval_rand = 0\n",
    "    \n",
    "    # increment the random sample set\n",
    "    sampled_nodes = random.sample(nodes_sampling, ns - len(random_sample))\n",
    "    random_sample.extend(sampled_nodes)\n",
    "    \n",
    "    # remove nodes from list of node to be sampled\n",
    "    nodes_sampling = [i for i in nodes_sampling if i not in sampled_nodes]\n",
    "    \n",
    "    # loop over simulation runs\n",
    "    for i in range(len(eval_data_values)):\n",
    "        \n",
    "        # get only nodes\n",
    "        active_nodes = [n[0] for n in eval_data_values[i]]\n",
    "        \n",
    "        # find number of detected outbreaks\n",
    "        if not set(active_nodes).isdisjoint(sensors_dtl[0:ns]):\n",
    "            eval_prob += 1\n",
    "        if not set(active_nodes).isdisjoint(sensors_deg_nodes[0:ns]):\n",
    "            eval_degr += 1\n",
    "        if not set(active_nodes).isdisjoint(sensors_sen_nodes[0:ns]):\n",
    "            eval_sent += 1\n",
    "        if not set(active_nodes).isdisjoint(random_sample):\n",
    "            eval_rand += 1\n",
    "            \n",
    "    # append results to lists\n",
    "    eval_prob_list.append(eval_prob / len(eval_data_values))\n",
    "    eval_degr_list.append(eval_degr / len(eval_data_values))\n",
    "    eval_sent_list.append(eval_sent / len(eval_data_values))\n",
    "    eval_rand_list.append(eval_rand / len(eval_data_values))"
   ]
  },
  {
   "cell_type": "markdown",
   "metadata": {},
   "source": [
    "##### Compute expected detection likelihood"
   ]
  },
  {
   "cell_type": "markdown",
   "metadata": {},
   "source": [
    "We can also compute the expected detection likelihood of our node set with the method ```detection_probability()``` from above."
   ]
  },
  {
   "cell_type": "code",
   "execution_count": 29,
   "metadata": {},
   "outputs": [],
   "source": [
    "# initialize list with 0 for empty observer set\n",
    "eval_expected_prob = [0]\n",
    "\n",
    "# loop over observer set sizes and compute expected detection probability\n",
    "for ns in range(5, 105, 5):\n",
    "    eval_expected_prob.append(od.detection_probability(sensors_dtl[0:ns]))"
   ]
  },
  {
   "cell_type": "markdown",
   "metadata": {},
   "source": [
    "##### Plot results"
   ]
  },
  {
   "cell_type": "markdown",
   "metadata": {},
   "source": [
    "Finally, we plot the results."
   ]
  },
  {
   "cell_type": "code",
   "execution_count": 30,
   "metadata": {},
   "outputs": [
    {
     "data": {
      "image/png": "[encoded data removed]",
      "text/plain": [
       "<Figure size 432x288 with 1 Axes>"
      ]
     },
     "metadata": {
      "needs_background": "light"
     },
     "output_type": "display_data"
    }
   ],
   "source": [
    "# values for x-axis\n",
    "x = list(range(0, 105, 5))\n",
    "\n",
    "# values for y-axis\n",
    "y1 = eval_prob_list\n",
    "y2 = eval_degr_list\n",
    "y3 = eval_sent_list\n",
    "y4 = eval_rand_list\n",
    "y5 = eval_expected_prob\n",
    "\n",
    "# plotting lines\n",
    "plt.plot(x, y1, marker = 's', c = '#377eb8', label = \"greedy max.\")\n",
    "plt.plot(x, y2, marker = 'o', c = '#ff7f00', label = \"degree\")\n",
    "plt.plot(x, y3, marker = 'x', c = '#4daf4a', label = \"sentinels\")\n",
    "plt.plot(x, y4, marker = '^', c = '#984ea3', label = \"random\")\n",
    "plt.plot(x, y5, ls = 'dashed', c = 'black', label = \"expected DL\")\n",
    "\n",
    "# plot axis labels\n",
    "plt.xlabel('Number of sensors k', size = 13)\n",
    "plt.ylabel('Fraction of detected outbreaks', size = 13)\n",
    "\n",
    "# define x-ticks\n",
    "# plt.xticks(np.arange(0, 120, 20))\n",
    "# plt.yticks(np.arange(0, 0.10, 0.01))\n",
    "\n",
    "# set title\n",
    "plt.title('Escort network')\n",
    "\n",
    "# plot legend\n",
    "plt.legend(prop={'size': 11})\n",
    "\n",
    "# save plot\n",
    "plt.savefig(\"eval.pdf\", format = 'pdf', dbi = 300,  bbox_inches='tight');"
   ]
  },
  {
   "cell_type": "markdown",
   "metadata": {},
   "source": [
    "#### 4.6.2 Comparison with nodes selected based on past periods"
   ]
  },
  {
   "cell_type": "markdown",
   "metadata": {},
   "source": [
    "In order to compare with nodes selected based on past periods, we import the nodes sets generated from previous runs."
   ]
  },
  {
   "cell_type": "code",
   "execution_count": 40,
   "metadata": {},
   "outputs": [],
   "source": [
    "# import observers from files\n",
    "sensors_dtl_oct = pickle.load(open(\"C:/.../sensors_dtl.p\", \"rb\"))\n",
    "sensors_dtl_sep = pickle.load(open(\"C:/.../sensors_dtl.p\", \"rb\"))\n",
    "sensors_dtl_aug = pickle.load(open(\"C:/.../sensors_dtl.p\", \"rb\"))\n",
    "sensors_dtl_jul = pickle.load(open(\"C:/.../sensors_dtl.p\", \"rb\"))\n",
    "sensors_dtl_jun = pickle.load(open(\"C:/.../sensors_dtl.p\", \"rb\"))\n",
    "sensors_dtl_may = pickle.load(open(\"C:/.../sensors_dtl.p\", \"rb\"))"
   ]
  },
  {
   "cell_type": "code",
   "execution_count": 41,
   "metadata": {},
   "outputs": [
    {
     "name": "stdout",
     "output_type": "stream",
     "text": [
      "18\n",
      "19\n",
      "13\n",
      "16\n",
      "10\n"
     ]
    }
   ],
   "source": [
    "# overlap between observers\n",
    "print(len(set(sensors_dtl_oct).intersection(sensors_dtl_sep)))\n",
    "print(len(set(sensors_dtl_oct).intersection(sensors_dtl_aug)))\n",
    "print(len(set(sensors_dtl_oct).intersection(sensors_dtl_jul)))\n",
    "print(len(set(sensors_dtl_oct).intersection(sensors_dtl_jun)))\n",
    "print(len(set(sensors_dtl_oct).intersection(sensors_dtl_may)))"
   ]
  },
  {
   "cell_type": "markdown",
   "metadata": {},
   "source": [
    "We see that the max. overlap is 19 nodes (out of 100 nodes)."
   ]
  },
  {
   "cell_type": "code",
   "execution_count": 42,
   "metadata": {},
   "outputs": [],
   "source": [
    "# parameters for evaluation\n",
    "eval_p = 0.6\n",
    "eval_recovery = 15\n",
    "eval_nsim = 10000\n",
    "min_outbreak_size = 0\n",
    "\n",
    "# create evaluation data\n",
    "eval_data = od.create_eval_data(eval_p, eval_recovery, eval_nsim, min_outbreak_size)"
   ]
  },
  {
   "cell_type": "code",
   "execution_count": 45,
   "metadata": {},
   "outputs": [],
   "source": [
    "# initialize empty lists for results\n",
    "eval_prob_list_oct = []\n",
    "eval_prob_list_sep = []\n",
    "eval_prob_list_aug = []\n",
    "eval_prob_list_jul = []\n",
    "eval_prob_list_jun = []\n",
    "eval_prob_list_may = []\n",
    "\n",
    "# get activated nodes for all simulation runs\n",
    "eval_data_values = list(eval_data.values())\n",
    "\n",
    "# loop over observer set sizes\n",
    "for ns in range(0, 105, 5):\n",
    "    \n",
    "    # initialize counters\n",
    "    eval_prob_oct = 0\n",
    "    eval_prob_sep = 0\n",
    "    eval_prob_aug = 0\n",
    "    eval_prob_jul = 0\n",
    "    eval_prob_jun = 0\n",
    "    eval_prob_may = 0\n",
    "        \n",
    "    # loop over simulation runs\n",
    "    for i in range(len(eval_data_values)):\n",
    "        \n",
    "        # get only nodes\n",
    "        active_nodes = [n[0] for n in eval_data_values[i]]\n",
    "        \n",
    "        # find number of detected outbreaks\n",
    "        if not set(active_nodes).isdisjoint(sensors_dtl_oct[0:ns]):\n",
    "            eval_prob_oct += 1\n",
    "        if not set(active_nodes).isdisjoint(sensors_dtl_sep[0:ns]):\n",
    "            eval_prob_sep += 1\n",
    "        if not set(active_nodes).isdisjoint(sensors_dtl_aug[0:ns]):\n",
    "            eval_prob_aug += 1\n",
    "        if not set(active_nodes).isdisjoint(sensors_dtl_jul[0:ns]):\n",
    "            eval_prob_jul += 1\n",
    "        if not set(active_nodes).isdisjoint(sensors_dtl_jun[0:ns]):\n",
    "            eval_prob_jun += 1\n",
    "        if not set(active_nodes).isdisjoint(sensors_dtl_may[0:ns]):\n",
    "            eval_prob_may += 1\n",
    "            \n",
    "    # append results to lists\n",
    "    eval_prob_list_oct.append(eval_prob_oct / len(eval_data_values))\n",
    "    eval_prob_list_sep.append(eval_prob_sep / len(eval_data_values))\n",
    "    eval_prob_list_aug.append(eval_prob_aug / len(eval_data_values))\n",
    "    eval_prob_list_jul.append(eval_prob_jul / len(eval_data_values))\n",
    "    eval_prob_list_jun.append(eval_prob_jun / len(eval_data_values))\n",
    "    eval_prob_list_may.append(eval_prob_may / len(eval_data_values))"
   ]
  },
  {
   "cell_type": "code",
   "execution_count": 46,
   "metadata": {},
   "outputs": [
    {
     "data": {
      "image/png": "[encoded data removed]",
      "text/plain": [
       "<Figure size 432x288 with 1 Axes>"
      ]
     },
     "metadata": {
      "needs_background": "light"
     },
     "output_type": "display_data"
    }
   ],
   "source": [
    "# values for x-axis\n",
    "x = list(range(0, 105, 5))\n",
    "\n",
    "# values for y-axis\n",
    "y1 = eval_prob_list_oct\n",
    "y2 = eval_prob_list_sep\n",
    "y3 = eval_prob_list_aug\n",
    "y4 = eval_prob_list_jul\n",
    "y5 = eval_prob_list_jun\n",
    "y6 = eval_prob_list_may\n",
    "y7 = eval_prob_list_6m\n",
    "\n",
    "# plotting lines\n",
    "plt.plot(x, y1, marker = 's', c = '#377eb8', label = \"Oct. 08\")\n",
    "plt.plot(x, y2, marker = 'o', c = '#ff7f00', label = \"Sep. 08\")\n",
    "plt.plot(x, y3, marker = 'x', c = '#4daf4a', label = \"Aug. 08\")\n",
    "plt.plot(x, y4, marker = '^', c = '#984ea3', label = \"Jul. 08\")\n",
    "plt.plot(x, y5, marker = 'v', c = '#dede00', label = \"Jun. 08\")\n",
    "plt.plot(x, y6, marker = 'p', c = '#a65628', label = \"May. 08\")\n",
    "# plt.plot(x, y7, marker = 'p', c = 'black', label = \"6m\")\n",
    "\n",
    "# plot axis labels\n",
    "plt.xlabel('Number of sensors k', size = 13)\n",
    "plt.ylabel('Fraction of detected outbreaks', size = 13)\n",
    "\n",
    "# define x-ticks\n",
    "# plt.xticks(np.arange(0, 120, 20))\n",
    "# plt.yticks(np.arange(0, 0.10, 0.01))\n",
    "\n",
    "# set title\n",
    "plt.title('Escort network')\n",
    "\n",
    "# plot legend\n",
    "plt.legend(prop={'size': 11})\n",
    "\n",
    "# save plot\n",
    "plt.savefig(\"eval.pdf\", format = 'pdf', dbi = 300,  bbox_inches='tight');"
   ]
  },
  {
   "cell_type": "markdown",
   "metadata": {},
   "source": [
    "#### 4.6.3 Different min. outbreak sizes"
   ]
  },
  {
   "cell_type": "code",
   "execution_count": 47,
   "metadata": {},
   "outputs": [],
   "source": [
    "# parameters for evaluation\n",
    "eval_p = 0.6\n",
    "eval_recovery = 15\n",
    "eval_nsim = 3000\n",
    "nsensors = 10\n",
    "\n",
    "# initialize empty lists for results\n",
    "eval_prob_list = []\n",
    "eval_degr_list = []\n",
    "eval_sent_list = []\n",
    "eval_rand_list = []\n",
    "\n",
    "# initialize empty list for random observers\n",
    "random_sample = []\n",
    "\n",
    "# get random node sample\n",
    "random_sample.extend(random.sample(od.nodes, nsensors))\n",
    "\n",
    "# loop over minimal outbreak sizes\n",
    "for min_outbreak_size in range(0, 6, 1):\n",
    "    \n",
    "    # simulate outbreaks\n",
    "    sim_runs = od.create_eval_data(eval_p, eval_recovery, eval_nsim, min_outbreak_size)\n",
    "    \n",
    "    # get activated nodes for all simulation runs\n",
    "    sim_runs_values = list(sim_runs.values())\n",
    "\n",
    "    # initialize counters\n",
    "    eval_prob = 0\n",
    "    eval_degr = 0\n",
    "    eval_sent = 0\n",
    "    eval_rand = 0\n",
    "    \n",
    "    # loop over simulation runs\n",
    "    for i in range(len(sim_runs_values)):\n",
    "        \n",
    "        # get only nodes\n",
    "        active_nodes = [n[0] for n in sim_runs_values[i]]\n",
    "        \n",
    "        # find number of detected outbreaks\n",
    "        if not set(active_nodes).isdisjoint(sensors_dtl[0:nsensors]):\n",
    "            eval_prob += 1\n",
    "        if not set(active_nodes).isdisjoint(sensors_deg_nodes[0:nsensors]):\n",
    "            eval_degr += 1\n",
    "        if not set(active_nodes).isdisjoint(sensors_sen_nodes[0:nsensors]):\n",
    "            eval_sent += 1\n",
    "        if not set(active_nodes).isdisjoint(random_sample):\n",
    "            eval_rand += 1\n",
    "            \n",
    "    # append results to lists\n",
    "    eval_prob_list.append(eval_prob / len(sim_runs_values))\n",
    "    eval_degr_list.append(eval_degr / len(sim_runs_values))\n",
    "    eval_sent_list.append(eval_sent / len(sim_runs_values))\n",
    "    eval_rand_list.append(eval_rand / len(sim_runs_values))"
   ]
  },
  {
   "cell_type": "code",
   "execution_count": 48,
   "metadata": {},
   "outputs": [
    {
     "data": {
      "image/png": "[encoded data removed]",
      "text/plain": [
       "<Figure size 432x288 with 1 Axes>"
      ]
     },
     "metadata": {
      "needs_background": "light"
     },
     "output_type": "display_data"
    }
   ],
   "source": [
    "# values for x-axis\n",
    "x = list(range(0, 6, 1))\n",
    "\n",
    "# values for y-axis\n",
    "y1 = eval_prob_list\n",
    "y2 = eval_degr_list\n",
    "y3 = eval_sent_list\n",
    "y4 = eval_rand_list\n",
    "\n",
    "# plotting lines\n",
    "plt.plot(x, y1, marker = 's', c = '#377eb8', label = \"greedy max.\")\n",
    "plt.plot(x, y2, marker = 'o', c = '#ff7f00', label = \"degree\")\n",
    "plt.plot(x, y3, marker = 'x', c = '#4daf4a', label = \"sentinels\")\n",
    "plt.plot(x, y4, marker = '^', c = '#984ea3', label = \"random\")\n",
    "\n",
    "# plot axis labels\n",
    "plt.xlabel('Min. outbreak size', size = 13)\n",
    "plt.ylabel('Fraction of detected outbreaks', size = 13)\n",
    "\n",
    "# define x-ticks\n",
    "plt.xticks(np.arange(0, 6, 1))\n",
    "plt.yticks(np.arange(0, 0.7, 0.1))\n",
    "\n",
    "# set title\n",
    "plt.title('Escort network')\n",
    "\n",
    "# plot legend\n",
    "plt.legend(prop={'size': 11})\n",
    "\n",
    "# save plot\n",
    "plt.savefig(\"eval.pdf\", format = 'pdf', dbi = 300,  bbox_inches='tight');"
   ]
  },
  {
   "cell_type": "markdown",
   "metadata": {},
   "source": [
    "#### 4.6.4 Wrong parametrization for $p$"
   ]
  },
  {
   "cell_type": "markdown",
   "metadata": {},
   "source": [
    "As before, we first load node sets generated in previous runs of the algorithm for different $p$."
   ]
  },
  {
   "cell_type": "code",
   "execution_count": 50,
   "metadata": {},
   "outputs": [],
   "source": [
    "# import observers from files\n",
    "sensors_dtl_01 = pickle.load(open(\"C:/.../sensors_dtl.p\", \"rb\"))\n",
    "sensors_dtl_03 = pickle.load(open(\"C:/.../sensors_dtl.p\", \"rb\"))\n",
    "sensors_dtl_06 = pickle.load(open(\"C:/.../sensors_dtl.p\", \"rb\"))\n",
    "sensors_dtl_09 = pickle.load(open(\"C:/.../sensors_dtl.p\", \"rb\"))"
   ]
  },
  {
   "cell_type": "code",
   "execution_count": 51,
   "metadata": {},
   "outputs": [
    {
     "name": "stdout",
     "output_type": "stream",
     "text": [
      "74\n",
      "76\n",
      "77\n"
     ]
    }
   ],
   "source": [
    "# overlap between observers\n",
    "print(len(set(sensors_dtl_06).intersection(sensors_dtl_01)))\n",
    "print(len(set(sensors_dtl_06).intersection(sensors_dtl_03)))\n",
    "print(len(set(sensors_dtl_06).intersection(sensors_dtl_09)))"
   ]
  },
  {
   "cell_type": "markdown",
   "metadata": {},
   "source": [
    "This implies that different parametrizations for $p$ result in similar observer sets. The observer set for $p=0.6$ has a 75% overlap with the other observer sets."
   ]
  },
  {
   "cell_type": "code",
   "execution_count": 52,
   "metadata": {},
   "outputs": [],
   "source": [
    "# parameters for evaluation\n",
    "eval_p = 0.6\n",
    "eval_recovery = 15\n",
    "eval_nsim = 10000\n",
    "min_outbreak_size = 0\n",
    "\n",
    "# create evaluation data\n",
    "eval_data = od.create_eval_data(eval_p, eval_recovery, eval_nsim, min_outbreak_size)"
   ]
  },
  {
   "cell_type": "code",
   "execution_count": 53,
   "metadata": {},
   "outputs": [],
   "source": [
    "# initialize empty lists for results\n",
    "eval_prob_list_01 = []\n",
    "eval_prob_list_03 = []\n",
    "eval_prob_list_06 = []\n",
    "eval_prob_list_09 = []\n",
    "\n",
    "# get activated nodes for all simulation runs\n",
    "eval_data_values = list(eval_data.values())\n",
    "\n",
    "# loop over observer set sizes\n",
    "for ns in range(0, 105, 5):\n",
    "    \n",
    "    # initialize counters\n",
    "    eval_prob_01 = 0\n",
    "    eval_prob_03 = 0\n",
    "    eval_prob_06 = 0\n",
    "    eval_prob_09 = 0\n",
    "    \n",
    "    # loop over simulation runs\n",
    "    for i in range(len(eval_data_values)):\n",
    "        \n",
    "        # get only nodes\n",
    "        active_nodes = [n[0] for n in eval_data_values[i]]\n",
    "        \n",
    "        # find number of detected outbreaks\n",
    "        if not set(active_nodes).isdisjoint(sensors_dtl_01[0:ns]):\n",
    "            eval_prob_01 += 1\n",
    "        if not set(active_nodes).isdisjoint(sensors_dtl_03[0:ns]):\n",
    "            eval_prob_03 += 1\n",
    "        if not set(active_nodes).isdisjoint(sensors_dtl_06[0:ns]):\n",
    "            eval_prob_06 += 1\n",
    "        if not set(active_nodes).isdisjoint(sensors_dtl_09[0:ns]):\n",
    "            eval_prob_09 += 1\n",
    "            \n",
    "    # append results to lists\n",
    "    eval_prob_list_01.append(eval_prob_01 / len(eval_data_values))\n",
    "    eval_prob_list_03.append(eval_prob_03 / len(eval_data_values))\n",
    "    eval_prob_list_06.append(eval_prob_06 / len(eval_data_values))\n",
    "    eval_prob_list_09.append(eval_prob_09 / len(eval_data_values))"
   ]
  },
  {
   "cell_type": "code",
   "execution_count": 54,
   "metadata": {},
   "outputs": [
    {
     "data": {
      "image/png": "[encoded data removed]",
      "text/plain": [
       "<Figure size 432x288 with 1 Axes>"
      ]
     },
     "metadata": {
      "needs_background": "light"
     },
     "output_type": "display_data"
    }
   ],
   "source": [
    "# values for x-axis\n",
    "x = list(range(0, 105, 5))\n",
    "\n",
    "# values for y-axis\n",
    "y1 = eval_prob_list_01\n",
    "y2 = eval_prob_list_03\n",
    "y3 = eval_prob_list_06\n",
    "y4 = eval_prob_list_09\n",
    "\n",
    "# plotting lines\n",
    "plt.plot(x, y1, marker = 's', c = '#377eb8', label = \"p = 0.1\")\n",
    "plt.plot(x, y2, marker = 'o', c = '#ff7f00', label = \"p = 0.3\")\n",
    "plt.plot(x, y3, marker = 'x', c = '#4daf4a', label = \"p = 0.6 (true)\")\n",
    "plt.plot(x, y4, marker = '^', c = '#984ea3', label = \"p = 0.9\")\n",
    "\n",
    "# plot axis labels\n",
    "plt.xlabel('Number of sensors k', size = 13)\n",
    "plt.ylabel('Fraction of detected outbreaks', size = 13)\n",
    "\n",
    "# define x-ticks\n",
    "# plt.xticks(np.arange(0, 120, 20))\n",
    "# plt.yticks(np.arange(0, 0.10, 0.01))\n",
    "\n",
    "# set title\n",
    "plt.title('Escort network')\n",
    "\n",
    "# plot legend\n",
    "plt.legend(prop={'size': 11})\n",
    "\n",
    "# save plot\n",
    "plt.savefig(\"eval.pdf\", format = 'pdf', dbi = 300, bbox_inches='tight');"
   ]
  },
  {
   "cell_type": "markdown",
   "metadata": {},
   "source": [
    "#### 4.6.5 Wrong parametrization for $\\mu^{-1}$"
   ]
  },
  {
   "cell_type": "markdown",
   "metadata": {},
   "source": [
    "As before, we first load node sets generated in previous runs of the algorithm for different $\\mu^{-1}$."
   ]
  },
  {
   "cell_type": "code",
   "execution_count": 56,
   "metadata": {},
   "outputs": [],
   "source": [
    "# import observers from files\n",
    "sensors_dtl_5 = pickle.load(open(\"C:/.../sensors_dtl.p\", \"rb\"))\n",
    "sensors_dtl_15 = pickle.load(open(\"C:/.../sensors_dtl.p\", \"rb\"))\n",
    "sensors_dtl_30 = pickle.load(open(\"C:/.../sensors_dtl.p\", \"rb\"))"
   ]
  },
  {
   "cell_type": "code",
   "execution_count": 57,
   "metadata": {},
   "outputs": [
    {
     "name": "stdout",
     "output_type": "stream",
     "text": [
      "35\n",
      "67\n"
     ]
    }
   ],
   "source": [
    "# overlap between observers\n",
    "print(len(set(sensors_dtl_15).intersection(sensors_dtl_5)))\n",
    "print(len(set(sensors_dtl_15).intersection(sensors_dtl_30)))"
   ]
  },
  {
   "cell_type": "markdown",
   "metadata": {},
   "source": [
    "Interestingly, the overlap with the node set based on 30 days recovery is much bigger than with the node set based on 5 days recovery time. This makes sense because assuming a recovery period of only 5 days ignores many infection paths that are possible if the true underlying recovery time is 15 days."
   ]
  },
  {
   "cell_type": "code",
   "execution_count": 58,
   "metadata": {},
   "outputs": [],
   "source": [
    "# parameters for evaluation\n",
    "eval_p = 0.6\n",
    "eval_recovery = 15\n",
    "eval_nsim = 10000\n",
    "min_outbreak_size = 0\n",
    "\n",
    "# create evaluation data\n",
    "eval_data = od.create_eval_data(eval_p, eval_recovery, eval_nsim, min_outbreak_size)"
   ]
  },
  {
   "cell_type": "code",
   "execution_count": 59,
   "metadata": {},
   "outputs": [],
   "source": [
    "# initialize empty lists for results\n",
    "eval_prob_list_5 = []\n",
    "eval_prob_list_15 = []\n",
    "eval_prob_list_30 = []\n",
    "\n",
    "# get activated nodes for all simulation runs\n",
    "eval_data_values = list(eval_data.values())\n",
    "\n",
    "# loop over observer set sizes\n",
    "for ns in range(0, 105, 5):\n",
    "    \n",
    "    # initialize counters\n",
    "    eval_prob_5 = 0\n",
    "    eval_prob_15 = 0\n",
    "    eval_prob_30 = 0\n",
    "    \n",
    "    # loop over simulation runs\n",
    "    for i in range(len(eval_data_values)):\n",
    "        \n",
    "        # get only nodes\n",
    "        active_nodes = [n[0] for n in eval_data_values[i]]\n",
    "        \n",
    "        # find number of detected outbreaks\n",
    "        if not set(active_nodes).isdisjoint(sensors_dtl_5[0:ns]):\n",
    "            eval_prob_5 += 1\n",
    "        if not set(active_nodes).isdisjoint(sensors_dtl_15[0:ns]):\n",
    "            eval_prob_15 += 1\n",
    "        if not set(active_nodes).isdisjoint(sensors_dtl_30[0:ns]):\n",
    "            eval_prob_30 += 1\n",
    "            \n",
    "    # append results to lists\n",
    "    eval_prob_list_5.append(eval_prob_5 / len(eval_data_values))\n",
    "    eval_prob_list_15.append(eval_prob_15 / len(eval_data_values))\n",
    "    eval_prob_list_30.append(eval_prob_30 / len(eval_data_values))"
   ]
  },
  {
   "cell_type": "code",
   "execution_count": 60,
   "metadata": {},
   "outputs": [
    {
     "data": {
      "image/png": "[encoded data removed]",
      "text/plain": [
       "<Figure size 432x288 with 1 Axes>"
      ]
     },
     "metadata": {
      "needs_background": "light"
     },
     "output_type": "display_data"
    }
   ],
   "source": [
    "# values for x-axis\n",
    "x = list(range(0, 105, 5))\n",
    "\n",
    "# values for y-axis\n",
    "y1 = eval_prob_list_5\n",
    "y2 = eval_prob_list_15\n",
    "y3 = eval_prob_list_30\n",
    "\n",
    "# plotting lines\n",
    "plt.plot(x, y1, marker = 's', c = '#377eb8', label = \"5 days\")\n",
    "plt.plot(x, y2, marker = 'o', c = '#ff7f00', label = \"15 days (true)\")\n",
    "plt.plot(x, y3, marker = 'x', c = '#4daf4a', label = \"30 days\")\n",
    "\n",
    "# plot axis labels\n",
    "plt.xlabel('Number of sensors k', size = 13)\n",
    "plt.ylabel('Fraction of detected outbreaks', size = 13)\n",
    "\n",
    "# define x-ticks\n",
    "# plt.xticks(np.arange(0, 120, 20))\n",
    "# plt.yticks(np.arange(0, 0.10, 0.01))\n",
    "\n",
    "# set title\n",
    "plt.title('Escort network')\n",
    "\n",
    "# plot legend\n",
    "plt.legend(prop={'size': 11})\n",
    "\n",
    "# save plot\n",
    "plt.savefig(\"eval.pdf\", format = 'pdf', dbi = 300, bbox_inches='tight');"
   ]
  },
  {
   "cell_type": "markdown",
   "metadata": {},
   "source": [
    "### 4.7 Evaluation results source detection"
   ]
  },
  {
   "cell_type": "markdown",
   "metadata": {},
   "source": [
    "In this final section, we show the results for the source detection."
   ]
  },
  {
   "cell_type": "markdown",
   "metadata": {},
   "source": [
    "In order to make the source detection task harder, we simulate 1'000 large outbreak scenarios that have at least 8 infected nodes at the time of monitoring/discovery of the infected nodes."
   ]
  },
  {
   "cell_type": "code",
   "execution_count": 61,
   "metadata": {},
   "outputs": [],
   "source": [
    "# parameters for evaluation\n",
    "eval_p = 0.6\n",
    "eval_recovery = 15\n",
    "eval_nsim = 1000\n",
    "min_outbreak_size = 8\n",
    "\n",
    "# create evaluation data (min_outbreak_size should not be larger than 3)\n",
    "eval_data = od.create_eval_data(eval_p, eval_recovery, eval_nsim, min_outbreak_size)"
   ]
  },
  {
   "cell_type": "markdown",
   "metadata": {},
   "source": [
    "The next step computes the distribution over the possible sources. This step may require a few minutes."
   ]
  },
  {
   "cell_type": "code",
   "execution_count": 62,
   "metadata": {},
   "outputs": [],
   "source": [
    "# empty lists for results\n",
    "res_detection1 = []\n",
    "res_detection2 = []\n",
    "res_detection3 = []\n",
    "\n",
    "# loop over simulations\n",
    "for k,v in eval_data.items():\n",
    "    \n",
    "    # source is first element of key\n",
    "    source = k[0]\n",
    "    \n",
    "    # get only nodes\n",
    "    active_nodes = list(set([n[0] for n in v]))\n",
    "    \n",
    "    # randomly sample 1,2,3 nodes from set of active nodes\n",
    "    evidence1 = random.sample(active_nodes, 1)\n",
    "    evidence2 = random.sample(active_nodes, 2)\n",
    "    evidence3 = random.sample(active_nodes, 3)\n",
    "    \n",
    "    # compute source detection\n",
    "    source_det1 = list(od.detect_sources(evidence1))\n",
    "    source_det2 = list(od.detect_sources(evidence2))\n",
    "    source_det3 = list(od.detect_sources(evidence3))\n",
    "\n",
    "    # add results to lists\n",
    "    res_detection1.append((evidence1, source_det1.index(source)))\n",
    "    res_detection2.append((evidence2, source_det2.index(source)))\n",
    "    res_detection3.append((evidence3, source_det3.index(source)))"
   ]
  },
  {
   "cell_type": "markdown",
   "metadata": {},
   "source": [
    "We define a helper function to summarize the results in a dictionary and to prepare them for plotting"
   ]
  },
  {
   "cell_type": "code",
   "execution_count": 63,
   "metadata": {},
   "outputs": [],
   "source": [
    "# function to summarize values into dict\n",
    "def to_dict(outlist, nsim):\n",
    "    # empty dict\n",
    "    out = {}\n",
    "    # summarize all ranks larger 4 into one category\n",
    "    temp = [i[1] if i[1] <= 4 else '> 5' for i in outlist]\n",
    "    # count elements for all categories\n",
    "    for i in set(temp):\n",
    "        out[i] = temp.count(i) / nsim\n",
    "    return out"
   ]
  },
  {
   "cell_type": "code",
   "execution_count": 64,
   "metadata": {},
   "outputs": [],
   "source": [
    "# apply function defined above\n",
    "rs1 = to_dict(res_detection1, eval_nsim)\n",
    "rs2 = to_dict(res_detection2, eval_nsim)\n",
    "rs3 = to_dict(res_detection3, eval_nsim)"
   ]
  },
  {
   "cell_type": "markdown",
   "metadata": {},
   "source": [
    "Finally, we plot the results."
   ]
  },
  {
   "cell_type": "code",
   "execution_count": 65,
   "metadata": {},
   "outputs": [
    {
     "data": {
      "image/png": "[encoded data removed]",
      "text/plain": [
       "<Figure size 432x288 with 1 Axes>"
      ]
     },
     "metadata": {
      "needs_background": "light"
     },
     "output_type": "display_data"
    }
   ],
   "source": [
    "# initialize plot\n",
    "fig, ax = plt.subplots()\n",
    "\n",
    "# location for groups on x-axis\n",
    "ind = np.arange(6)\n",
    "\n",
    "# bar width\n",
    "width = 0.2\n",
    "\n",
    "# plot bars\n",
    "p1 = ax.bar(ind, rs1.values(), width)\n",
    "p2 = ax.bar(ind + 1.1*width, rs2.values(), width)\n",
    "p3 = ax.bar(ind + 2.2 * width, rs3.values(), width)\n",
    "\n",
    "# set xticks and xtick labels\n",
    "ax.set_xticks(ind + 2 * width / 2)\n",
    "ax.set_xticklabels(('1', '2', '3', '4', '5', '> 5'))\n",
    "\n",
    "# legend\n",
    "ax.legend((p1[0], p2[0], p3[0]), ('Nodes observed: 1', 'Nodes observed: 2', 'Nodes observed: 3'))\n",
    "ax.autoscale_view()\n",
    "\n",
    "# axis labels\n",
    "ax.set_xlabel('Position of true source in ranked source prediction', size = 13)\n",
    "ax.set_ylabel('Frequency', size = 13)\n",
    "\n",
    "# set title\n",
    "ax.set_title('Escort network')\n",
    "\n",
    "# save plot\n",
    "plt.savefig(\"source_eval.pdf\", format = 'pdf', dbi = 300, bbox_inches='tight');"
   ]
  }
 ],
 "metadata": {
  "kernelspec": {
   "display_name": "Python 3",
   "language": "python",
   "name": "python3"
  },
  "language_info": {
   "codemirror_mode": {
    "name": "ipython",
    "version": 3
   },
   "file_extension": ".py",
   "mimetype": "text/x-python",
   "name": "python",
   "nbconvert_exporter": "python",
   "pygments_lexer": "ipython3",
   "version": "3.7.3"
  }
 },
 "nbformat": 4,
 "nbformat_minor": 2
}
